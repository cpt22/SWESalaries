{
 "cells": [
  {
   "cell_type": "code",
   "execution_count": 2,
   "id": "aebc0ee9",
   "metadata": {},
   "outputs": [
    {
     "name": "stdout",
     "output_type": "stream",
     "text": [
      "dict_values([[], [], [], [], [], [], [], [], [], [], [], [], [], [], [], [], [], [], []])\n",
      "https://www.linkedin.com/jobs/view/software-engineer-c%23-at-itw-3039563164?refId=8Dhb78X3cNlCy%2BXDGy78cQ%3D%3D&trackingId=jakA%2BE8MV4ecBJfQXHln%2BQ%3D%3D&position=1&pageNum=0&trk=public_jobs_jserp-result_search-card\n",
      "\n",
      "https://www.linkedin.com/jobs/view/c%2B%2B-software-engineer-at-jobot-3034297216?refId=8Dhb78X3cNlCy%2BXDGy78cQ%3D%3D&trackingId=aNxodK3mBb5z8%2BS9LGAyiA%3D%3D&position=2&pageNum=0&trk=public_jobs_jserp-result_search-card\n",
      "\n",
      "https://www.linkedin.com/jobs/view/software-engineer-ror-at-jobot-3030185292?refId=8Dhb78X3cNlCy%2BXDGy78cQ%3D%3D&trackingId=Z7OBxIY4hEnGz9p2Esfozg%3D%3D&position=3&pageNum=0&trk=public_jobs_jserp-result_search-card\n",
      "\n",
      "https://www.linkedin.com/jobs/view/elixir-software-engineer-at-earnnest-3035997047?refId=8Dhb78X3cNlCy%2BXDGy78cQ%3D%3D&trackingId=9IVbVaexcVAqIAtzzep8mg%3D%3D&position=4&pageNum=0&trk=public_jobs_jserp-result_search-card\n",
      "\n",
      "https://www.linkedin.com/jobs/view/software-engineer-react-ruby-on-rails-at-jobot-3037327094?refId=8Dhb78X3cNlCy%2BXDGy78cQ%3D%3D&trackingId=%2BsyT4EzhVHrqBscYgFQsHA%3D%3D&position=5&pageNum=0&trk=public_jobs_jserp-result_search-card\n",
      "\n",
      "https://www.linkedin.com/jobs/view/software-engineer-remote-golang-kubernetes-at-averity-3040224192?refId=8Dhb78X3cNlCy%2BXDGy78cQ%3D%3D&trackingId=WorSiOGyLPmfjUbvKx7ftw%3D%3D&position=6&pageNum=0&trk=public_jobs_jserp-result_search-card\n",
      "\n",
      "https://www.linkedin.com/jobs/view/golang-software-engineer-100%25-remote-at-jobot-3030185344?refId=8Dhb78X3cNlCy%2BXDGy78cQ%3D%3D&trackingId=Olzu9uo4g5g%2FoGr5N9SXlA%3D%3D&position=7&pageNum=0&trk=public_jobs_jserp-result_search-card\n",
      "\n",
      "https://www.linkedin.com/jobs/view/remote-rust-software-engineer-at-jobot-3034656317?refId=8Dhb78X3cNlCy%2BXDGy78cQ%3D%3D&trackingId=lo43kEYQ091qRJMAc7GJoQ%3D%3D&position=8&pageNum=0&trk=public_jobs_jserp-result_search-card\n",
      "\n",
      "https://www.linkedin.com/jobs/view/%232833-software-engineer-react-native-at-it-motives-3029776271?refId=8Dhb78X3cNlCy%2BXDGy78cQ%3D%3D&trackingId=adWUZ4jKpKu6mktfjXnO%2FA%3D%3D&position=9&pageNum=0&trk=public_jobs_jserp-result_search-card\n",
      "\n",
      "https://www.linkedin.com/jobs/view/software-dev-engineer-auction-runtime-at-amazon-3024170351?refId=8Dhb78X3cNlCy%2BXDGy78cQ%3D%3D&trackingId=mxS2%2BCbBRXlT7hbTxJI5xg%3D%3D&position=10&pageNum=0&trk=public_jobs_jserp-result_search-card\n",
      "\n",
      "https://www.linkedin.com/jobs/view/software-engineer-at-decent-3041898599?refId=8Dhb78X3cNlCy%2BXDGy78cQ%3D%3D&trackingId=TV6qvaSGgxr3IMyGi0hAaQ%3D%3D&position=11&pageNum=0&trk=public_jobs_jserp-result_search-card\n",
      "\n",
      "https://www.linkedin.com/jobs/view/ruby-software-engineer-fully-remote%21-at-jobot-3030183666?refId=8Dhb78X3cNlCy%2BXDGy78cQ%3D%3D&trackingId=edjp88F%2BYqoWRbC38ep%2FJQ%3D%3D&position=12&pageNum=0&trk=public_jobs_jserp-result_search-card\n",
      "\n",
      "https://www.linkedin.com/jobs/view/software-engineer-c%23-net-at-nationwide-vision-3038612733?refId=8Dhb78X3cNlCy%2BXDGy78cQ%3D%3D&trackingId=HkRBV1SwMlvhcZ%2FPDVogTQ%3D%3D&position=13&pageNum=0&trk=public_jobs_jserp-result_search-card\n",
      "\n",
      "https://www.linkedin.com/jobs/view/remote-rust-software-engineer-at-jobot-3034657227?refId=8Dhb78X3cNlCy%2BXDGy78cQ%3D%3D&trackingId=cVUFLirRgvePP2U%2FQsXQuw%3D%3D&position=14&pageNum=0&trk=public_jobs_jserp-result_search-card\n",
      "\n",
      "https://www.linkedin.com/jobs/view/c%23-software-engineer-fort-wayne-in-at-dice-3036120651?refId=8Dhb78X3cNlCy%2BXDGy78cQ%3D%3D&trackingId=Aq8wbTaeSF45qafP6qGDDw%3D%3D&position=15&pageNum=0&trk=public_jobs_jserp-result_search-card\n",
      "\n",
      "https://www.linkedin.com/jobs/view/software-development-engineer-c%2B%2B-computational-geometry-at-autodesk-3027630945?refId=8Dhb78X3cNlCy%2BXDGy78cQ%3D%3D&trackingId=nq4%2FYGz4XuV1Itk2shS7FQ%3D%3D&position=16&pageNum=0&trk=public_jobs_jserp-result_search-card\n",
      "\n",
      "https://www.linkedin.com/jobs/view/mid-level-software-engineer-python-at-brightlink-3040792972?refId=8Dhb78X3cNlCy%2BXDGy78cQ%3D%3D&trackingId=%2FTXNzSCwkiVAkCUa%2BRFGsQ%3D%3D&position=18&pageNum=0&trk=public_jobs_jserp-result_search-card\n",
      "\n",
      "https://www.linkedin.com/jobs/view/software-engineer-c%23-net-at-nationwide-vision-3038611870?refId=8Dhb78X3cNlCy%2BXDGy78cQ%3D%3D&trackingId=NiQkC8RDcxhgTqlr3puuvg%3D%3D&position=19&pageNum=0&trk=public_jobs_jserp-result_search-card\n",
      "\n",
      "https://www.linkedin.com/jobs/view/founding-software-engineer-at-cashrollie-3039673364?refId=8Dhb78X3cNlCy%2BXDGy78cQ%3D%3D&trackingId=KI3hEefhWZSA5srP8ZaTbQ%3D%3D&position=20&pageNum=0&trk=public_jobs_jserp-result_search-card\n",
      "\n",
      "https://www.linkedin.com/jobs/view/fullstack-software-engineer-at-endear-3038021196?refId=8Dhb78X3cNlCy%2BXDGy78cQ%3D%3D&trackingId=pLAFWDF4MwAQCntIgvHWpQ%3D%3D&position=21&pageNum=0&trk=public_jobs_jserp-result_search-card\n",
      "\n",
      "https://www.linkedin.com/jobs/view/software-engineer-ruby-on-rails-at-jobot-3031011179?refId=8Dhb78X3cNlCy%2BXDGy78cQ%3D%3D&trackingId=7G6tmcaC0Qfb1mXDoVGAMw%3D%3D&position=22&pageNum=0&trk=public_jobs_jserp-result_search-card\n",
      "\n",
      "https://www.linkedin.com/jobs/view/mid-level-software-engineer-python-aws-js-at-brightlink-3040797030?refId=8Dhb78X3cNlCy%2BXDGy78cQ%3D%3D&trackingId=5rGaGRSnZez1uUQMAHKMRg%3D%3D&position=23&pageNum=0&trk=public_jobs_jserp-result_search-card\n",
      "\n",
      "https://www.linkedin.com/jobs/view/remote-ruby-on-rails-software-engineer-at-jobot-3030180831?refId=8Dhb78X3cNlCy%2BXDGy78cQ%3D%3D&trackingId=ARH%2FaRDskrDtIcimpUSbWg%3D%3D&position=24&pageNum=0&trk=public_jobs_jserp-result_search-card\n",
      "\n",
      "https://www.linkedin.com/jobs/view/software-engineer-fives-dyag-m-f-at-fives-3034213056?refId=8Dhb78X3cNlCy%2BXDGy78cQ%3D%3D&trackingId=AGdifY1%2FGKWvoz25%2BMNSQA%3D%3D&position=25&pageNum=0&trk=public_jobs_jserp-result_search-card\n",
      "\n",
      "{'javascript': [110000.0, 155000.0, 90000.0, 130000.0, 165000.0], ' c[ \\\\.]': [], 'c\\\\+\\\\+': [110000.0, 155000.0, 200000.0, 120000.0, 165000.0, 120000.0, 165000.0, 60000.0, 94000.0, 130000.0, 200000.0], 'java': [110000.0, 155000.0, 150000.0, 170000.0, 100000000.0, 165000.0, 200000.0, 120000.0, 165000.0, 90000.0, 130000.0, 165000.0, 120000.0, 165000.0], 'kotlin': [150000.0, 170000.0, 100000000.0, 165000.0], 'swift': [], 'ruby': [150000.0, 200000.0, 200000.0, 100000.0, 145000.0, 90000.0, 130000.0, 165000.0, 150000.0, 250000.0], 'python': [110000.0, 155000.0, 130000.0, 200000.0, 150000.0, 250000.0], 'python3': [], 'sql': [76000.0, 128000.0, 200000.0, 130000.0, 200000.0, 150000.0, 250000.0], 'r': [76000.0, 128000.0, 110000.0, 155000.0, 150000.0, 200000.0, 200000.0, 100000.0, 145000.0, 150000.0, 170000.0, 100000000.0, 165000.0, 200000.0, 120000.0, 165000.0, 90000.0, 130000.0, 120000.0, 175000.0, 165000.0, 120000.0, 165000.0, 60000.0, 94000.0, 130000.0, 200000.0, 150000.0, 250000.0], 'perl': [], 'c#': [76000.0, 128000.0, 200000.0], 'lua': [], 'rust': [120000.0, 165000.0, 120000.0, 165000.0], 'php': [], 'html': [76000.0, 128000.0], 'css': [], 'xml': []}\n"
     ]
    }
   ],
   "source": [
    "# Code for data collection\n",
    "from bs4 import BeautifulSoup as bs\n",
    "import requests as rq\n",
    "import re\n",
    "\n",
    "langs = {\"javascript\": [], \" c[ \\.]\": [], \"c\\+\\+\": [], \"java\": [], \"kotlin\": [], \"swift\": [], \"ruby\": [], \"python\": [], \"python3\": [], \"sql\": [], \"r\": [], \"perl\": [], \"c#\": [], \"lua\": [], \"rust\": [], \"php\": [], \"html\": [], \"css\": [], \"xml\": []}\n",
    "\n",
    "page = rq.get(\"https://www.linkedin.com/jobs/search?keywords=Software%2Bengineer&location=United%20States&geoId=&trk=public_jobs_jobs-search-bar_search-submit&position=1&pageNum=0\")\n",
    "soup = bs(page.content, 'html.parser')\n",
    "items = soup.find_all(class_=\"base-card__full-link\")\n",
    "print(langs.values())\n",
    "salary_match = \"\\$?\\d{0,3},?\\d{1,3},\\d{3,3}\\.?\\d{0,2}\"\n",
    "item = items[0]\n",
    "for item in items:\n",
    "    url = item.get('href')\n",
    "    print(url + \"\\n\")\n",
    "    posting_page = rq.get(url)\n",
    "    s = bs(posting_page.content, 'html.parser')\n",
    "    text = s.get_text()\n",
    "    sal_matches = list(map(lambda x: float(re.sub(\"[^0-9\\.]\", \"\", x)), re.findall(salary_match, text)))\n",
    "    for k, v in langs.items(): \n",
    "        if re.search(k, text, flags=re.IGNORECASE) != None:\n",
    "            langs[k].extend(sal_matches)\n",
    "    \n",
    "print(langs)\n",
    "\n"
   ]
  },
  {
   "cell_type": "code",
   "execution_count": null,
   "id": "794f5da5",
   "metadata": {},
   "outputs": [],
   "source": []
  }
 ],
 "metadata": {
  "kernelspec": {
   "display_name": "Python 3 (ipykernel)",
   "language": "python",
   "name": "python3"
  },
  "language_info": {
   "codemirror_mode": {
    "name": "ipython",
    "version": 3
   },
   "file_extension": ".py",
   "mimetype": "text/x-python",
   "name": "python",
   "nbconvert_exporter": "python",
   "pygments_lexer": "ipython3",
   "version": "3.9.7"
  }
 },
 "nbformat": 4,
 "nbformat_minor": 5
}
